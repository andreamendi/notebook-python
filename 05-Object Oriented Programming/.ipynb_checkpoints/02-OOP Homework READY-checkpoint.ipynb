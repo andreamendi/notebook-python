{
 "cells": [
  {
   "cell_type": "code",
   "execution_count": 1,
   "metadata": {},
   "outputs": [
    {
     "name": "stdout",
     "output_type": "stream",
     "text": [
      "Distancia 9.43\n",
      "Slope 1.6\n",
      "Area de la base circular 94.25\n",
      "Volumen 56.55\n"
     ]
    }
   ],
   "source": [
    "#Fill in the Line class methods to accept coordinates as a pair of tuples and return the slope and distance of the line.\n",
    "import math\n",
    "\n",
    "class Line:\n",
    "    \n",
    "    def __init__(self,coor1,coor2):\n",
    "        self.coor1 = coor1\n",
    "        self.coor2  =coor2\n",
    "\n",
    "    def distance(self):\n",
    "        raiz = math.sqrt((self.coor2[0]-self.coor1[0])**2+(self.coor2[1]-self.coor1[1])**2)\n",
    "        return raiz\n",
    "    def slope(self):\n",
    "        slope = ((self.coor2[1]-self.coor1[1])/(self.coor2[0]-self.coor1[0]))\n",
    "        return slope\n",
    "\n",
    "coordinate1 = (3,2)\n",
    "coordinate2 = (8,10)\n",
    "li = Line(coor1=coordinate1,coor2=coordinate2)\n",
    "li.distance()\n",
    "print(\"Distancia {}\".format(round(li.distance(),2)))\n",
    "print(\"Slope {}\".format(li.slope()))\n",
    "\n",
    "#------------------------------\n",
    "class Cylinder:\n",
    "    \n",
    "    def __init__(self,height=1,radius=1):\n",
    "        self.height = height\n",
    "        self.radius = radius\n",
    "    \n",
    "    def surface_area(self):\n",
    "       return (2 * math.pi * self.radius * self.height) + (2 * self.circle_area())\n",
    "\n",
    "    def circle_area(self):\n",
    "       return math.pi * self.radius**2\n",
    "\n",
    "    def volume(self):\n",
    "        return self.circle_area() * self.height\n",
    "    \n",
    "    \n",
    "\n",
    "c = Cylinder(2,3)\n",
    "print(\"Area de la base circular {}\".format(round(c.surface_area(),2)))\n",
    "print(\"Volumen {}\".format(round(c.volume(),2)))\n",
    "\n"
   ]
  },
  {
   "cell_type": "code",
   "execution_count": null,
   "metadata": {},
   "outputs": [],
   "source": []
  }
 ],
 "metadata": {
  "kernelspec": {
   "display_name": "Python 3",
   "language": "python",
   "name": "python3"
  },
  "language_info": {
   "codemirror_mode": {
    "name": "ipython",
    "version": 3
   },
   "file_extension": ".py",
   "mimetype": "text/x-python",
   "name": "python",
   "nbconvert_exporter": "python",
   "pygments_lexer": "ipython3",
   "version": "3.6.5"
  }
 },
 "nbformat": 4,
 "nbformat_minor": 2
}
