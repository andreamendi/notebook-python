{
 "cells": [
  {
   "cell_type": "code",
   "execution_count": 1,
   "metadata": {},
   "outputs": [
    {
     "name": "stdout",
     "output_type": "stream",
     "text": [
      "Owner:  Jose\n",
      "Balance:  100\n",
      "Your actual balance is: 500\n",
      "--------------\n",
      "Your actual balance is: 0\n"
     ]
    }
   ],
   "source": [
    "class Account:\n",
    "    def __init__(self,owner,balance):\n",
    "        self.owner = owner\n",
    "        self.balance = balance\n",
    "\n",
    "        print(\"Owner:  {}\".format(self.owner))\n",
    "        print(\"Balance:  {}\".format(self.balance))\n",
    "    \n",
    "    def deposit(self, amount):\n",
    "        self.balance += amount \n",
    "        return \"Your actual balance is: {}\".format(self.balance)\n",
    "        \n",
    "    def withdraw(self, withdraw):\n",
    "        if self.balance >= withdraw:\n",
    "            self.balance -= withdraw\n",
    "            return \"Your actual balance is: {}\".format(self.balance)\n",
    "        else:\n",
    "            return \"Funds Unavailable!\"\n",
    "\n",
    "acct1 = Account('Jose',100)\n",
    "print(acct1.deposit(400))\n",
    "print(\"--------------\")\n",
    "print(acct1.withdraw(500))"
   ]
  },
  {
   "cell_type": "code",
   "execution_count": null,
   "metadata": {},
   "outputs": [],
   "source": []
  }
 ],
 "metadata": {
  "kernelspec": {
   "display_name": "Python 3",
   "language": "python",
   "name": "python3"
  },
  "language_info": {
   "codemirror_mode": {
    "name": "ipython",
    "version": 3
   },
   "file_extension": ".py",
   "mimetype": "text/x-python",
   "name": "python",
   "nbconvert_exporter": "python",
   "pygments_lexer": "ipython3",
   "version": "3.6.5"
  }
 },
 "nbformat": 4,
 "nbformat_minor": 2
}
