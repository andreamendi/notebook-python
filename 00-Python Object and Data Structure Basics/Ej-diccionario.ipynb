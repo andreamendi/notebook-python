{
 "cells": [
  {
   "cell_type": "markdown",
   "metadata": {},
   "source": [
    "# Diccionario"
   ]
  },
  {
   "cell_type": "markdown",
   "metadata": {},
   "source": [
    "#Ejercicio: arbol genealogico"
   ]
  },
  {
   "cell_type": "code",
   "execution_count": 11,
   "metadata": {},
   "outputs": [
    {
     "ename": "SyntaxError",
     "evalue": "can't assign to literal (<ipython-input-11-69b75a803c30>, line 1)",
     "output_type": "error",
     "traceback": [
      "\u001b[0;36m  File \u001b[0;32m\"<ipython-input-11-69b75a803c30>\"\u001b[0;36m, line \u001b[0;32m1\u001b[0m\n\u001b[0;31m    \"fam\"={\"abuelx\":{\"aba_pa\":{\"nombre\": \"Teo\",\"fec_nac\": \"11-9\"},\"abo_pa\":{\"nombre\": \"Juan\",\"fec_nac\": \"24-1\"},\"aba_ma\":{\"nombre\": \"Rosario\",\"fec_nac\": \"16-1\"},\"abo_pa\": {\"nombre\": \"Jose\",\"fec_nac\": \"20-8\"},\"mapa\": {\"mama\": {\"nombre\": \"Marisol\",\"fec_nac\": \"30-6\"},\"papa\": {\"nombre\": \"Cesar\",\"fec_nac\": \"19-12\"},\"yo\": {\"hija\": {\"nombre\": \"Andrea\",\"fec_nac\": \"2-5\"}}}}}\u001b[0m\n\u001b[0m                                                                                                                                                                                                                                                                                                                                                                                ^\u001b[0m\n\u001b[0;31mSyntaxError\u001b[0m\u001b[0;31m:\u001b[0m can't assign to literal\n"
     ]
    }
   ],
   "source": [
    "\"fam\"={\"abuelx\":{\"aba_pa\":{\"nombre\": \"Teo\",\"fec_nac\": \"11-9\"},\"abo_pa\":{\"nombre\": \"Juan\",\"fec_nac\": \"24-1\"},\"aba_ma\":{\"nombre\": \"Rosario\",\"fec_nac\": \"16-1\"},\"abo_pa\": {\"nombre\": \"Jose\",\"fec_nac\": \"20-8\"},\"mapa\": {\"mama\": {\"nombre\": \"Marisol\",\"fec_nac\": \"30-6\"},\"papa\": {\"nombre\": \"Cesar\",\"fec_nac\": \"19-12\"},\"yo\": {\"hija\": {\"nombre\": \"Andrea\",\"fec_nac\": \"2-5\"}}}}}"
   ]
  },
  {
   "cell_type": "code",
   "execution_count": null,
   "metadata": {},
   "outputs": [],
   "source": []
  }
 ],
 "metadata": {
  "kernelspec": {
   "display_name": "Python 3",
   "language": "python",
   "name": "python3"
  },
  "language_info": {
   "codemirror_mode": {
    "name": "ipython",
    "version": 3
   },
   "file_extension": ".py",
   "mimetype": "text/x-python",
   "name": "python",
   "nbconvert_exporter": "python",
   "pygments_lexer": "ipython3",
   "version": "3.6.5"
  }
 },
 "nbformat": 4,
 "nbformat_minor": 2
}
