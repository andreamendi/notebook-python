{
 "cells": [
  {
   "cell_type": "markdown",
   "metadata": {},
   "source": [
    "Diccionario De la familia"
   ]
  },
  {
   "cell_type": "code",
   "execution_count": 1,
   "metadata": {},
   "outputs": [
    {
     "data": {
      "text/plain": [
       "{'abu': {'aa_mat': 'Chayo',\n",
       "  'ao_mat': 'Jose',\n",
       "  'aa_pat': 'Teo',\n",
       "  'ao_pat': 'Juan'},\n",
       " 'ti': {'a_mat': 'Laura',\n",
       "  'o_mat': 'Ricardo',\n",
       "  'a_pat': 'Karla',\n",
       "  'o_pat': 'Edgar'},\n",
       " 'pri': {'a_mat_uno': 'Mariana', 'a_mat_dos': 'Isabella', 'o_pat': 'Emiliano'},\n",
       " 'yo': 'Andrea'}"
      ]
     },
     "execution_count": 1,
     "metadata": {},
     "output_type": "execute_result"
    }
   ],
   "source": [
    "{\"abu\":{\"aa_mat\":\"Chayo\",\"ao_mat\":\"Jose\", \"aa_pat\":\"Teo\",\"ao_pat\":\"Juan\"},\"ti\":{\"a_mat\":\"Laura\",\"o_mat\":\"Ricardo\",\"a_pat\":\"Karla\",\"o_pat\":\"Edgar\"},\"pri\":{ \"a_mat_uno\":\"Mariana\",\"a_mat_dos\":\"Isabella\",\"o_pat\":\"Emiliano\"},\"yo\":\"Andrea\"}"
   ]
  }
 ],
 "metadata": {
  "kernelspec": {
   "display_name": "Python 3",
   "language": "python",
   "name": "python3"
  },
  "language_info": {
   "codemirror_mode": {
    "name": "ipython",
    "version": 3
   },
   "file_extension": ".py",
   "mimetype": "text/x-python",
   "name": "python",
   "nbconvert_exporter": "python",
   "pygments_lexer": "ipython3",
   "version": "3.6.5"
  }
 },
 "nbformat": 4,
 "nbformat_minor": 2
}
